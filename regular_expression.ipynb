{
  "nbformat": 4,
  "nbformat_minor": 0,
  "metadata": {
    "colab": {
      "provenance": [],
      "authorship_tag": "ABX9TyMRIxD02TnD5mmR96PyLMsP",
      "include_colab_link": true
    },
    "kernelspec": {
      "name": "python3",
      "display_name": "Python 3"
    },
    "language_info": {
      "name": "python"
    }
  },
  "cells": [
    {
      "cell_type": "markdown",
      "metadata": {
        "id": "view-in-github",
        "colab_type": "text"
      },
      "source": [
        "<a href=\"https://colab.research.google.com/github/shivhub09/hugging_face_tutorial/blob/main/regular_expression.ipynb\" target=\"_parent\"><img src=\"https://colab.research.google.com/assets/colab-badge.svg\" alt=\"Open In Colab\"/></a>"
      ]
    },
    {
      "cell_type": "code",
      "execution_count": 1,
      "metadata": {
        "colab": {
          "base_uri": "https://localhost:8080/"
        },
        "id": "LzeS2SJYPCFe",
        "outputId": "c01a849d-16b4-4166-c65a-3f3940d0f50b"
      },
      "outputs": [
        {
          "output_type": "stream",
          "name": "stdout",
          "text": [
            "Hello\n"
          ]
        }
      ],
      "source": [
        "import re\n",
        "\n",
        "text = \"Hello, how are you?\"\n",
        "pattern = \"hello\"\n",
        "\n",
        "result = re.search(pattern, text, re.IGNORECASE)\n",
        "print(result.group() if result else \"Not found\")\n"
      ]
    },
    {
      "cell_type": "code",
      "source": [
        "text = \"The cat and the dog\"\n",
        "pattern = \"[aeiou]\"\n",
        "\n",
        "result = re.findall(pattern, text, re.IGNORECASE)\n",
        "print(result)\n"
      ],
      "metadata": {
        "colab": {
          "base_uri": "https://localhost:8080/"
        },
        "id": "kqCw581WPIym",
        "outputId": "094e70eb-ab1d-4c7c-9c44-c05b59e393db"
      },
      "execution_count": 2,
      "outputs": [
        {
          "output_type": "stream",
          "name": "stdout",
          "text": [
            "['e', 'a', 'a', 'e', 'o']\n"
          ]
        }
      ]
    },
    {
      "cell_type": "code",
      "source": [
        "text = \"aaaabbbbcccddeee\"\n",
        "pattern = \"a+\"\n",
        "\n",
        "result = re.findall(pattern, text)\n",
        "print(result)\n"
      ],
      "metadata": {
        "colab": {
          "base_uri": "https://localhost:8080/"
        },
        "id": "9DUbVtR3PK0l",
        "outputId": "4685066d-74d6-45a1-e40f-ed327dfcdb26"
      },
      "execution_count": 3,
      "outputs": [
        {
          "output_type": "stream",
          "name": "stdout",
          "text": [
            "['aaaa']\n"
          ]
        }
      ]
    },
    {
      "cell_type": "code",
      "source": [
        "text = \"Start with this. End with that.\"\n",
        "pattern_start = \"^Start\"\n",
        "pattern_end = \"that.$\"\n",
        "\n",
        "result_start = re.search(pattern_start, text)\n",
        "result_end = re.search(pattern_end, text)\n",
        "\n",
        "print(\"Start matched\" if result_start else \"Start not found\")\n",
        "print(\"End matched\" if result_end else \"End not found\")\n"
      ],
      "metadata": {
        "colab": {
          "base_uri": "https://localhost:8080/"
        },
        "id": "d5q7-LoqPNAJ",
        "outputId": "5aa7c982-d763-45bb-9b81-54d6b41b38a2"
      },
      "execution_count": 4,
      "outputs": [
        {
          "output_type": "stream",
          "name": "stdout",
          "text": [
            "Start matched\n",
            "End matched\n"
          ]
        }
      ]
    },
    {
      "cell_type": "code",
      "source": [
        "text = \"abc123XYZ\"\n",
        "pattern_lower = \"[a-z]+\"\n",
        "pattern_digit = \"[0-9]+\"\n",
        "\n",
        "result_lower = re.findall(pattern_lower, text)\n",
        "result_digit = re.findall(pattern_digit, text)\n",
        "\n",
        "print(result_lower)\n",
        "print(result_digit)\n"
      ],
      "metadata": {
        "colab": {
          "base_uri": "https://localhost:8080/"
        },
        "id": "YhMs5-eoPPCm",
        "outputId": "ae166f26-46b3-4466-9684-a43a5024ac3a"
      },
      "execution_count": 5,
      "outputs": [
        {
          "output_type": "stream",
          "name": "stdout",
          "text": [
            "['abc']\n",
            "['123']\n"
          ]
        }
      ]
    },
    {
      "cell_type": "code",
      "source": [
        "text = \"123 Main Street, City\"\n",
        "pattern_digit = \"\\d+\"\n",
        "pattern_whitespace = \"\\s+\"\n",
        "pattern_alphanumeric = \"\\w+\"\n",
        "\n",
        "result_digit = re.findall(pattern_digit, text)\n",
        "result_whitespace = re.findall(pattern_whitespace, text)\n",
        "result_alphanumeric = re.findall(pattern_alphanumeric, text)\n",
        "\n",
        "print(result_digit)\n",
        "print(result_whitespace)\n",
        "print(result_alphanumeric)\n"
      ],
      "metadata": {
        "colab": {
          "base_uri": "https://localhost:8080/"
        },
        "id": "Xn7pTyGvPQvN",
        "outputId": "604493f7-f9e3-4506-ff9d-5ee1ef2056a7"
      },
      "execution_count": 6,
      "outputs": [
        {
          "output_type": "stream",
          "name": "stdout",
          "text": [
            "['123']\n",
            "[' ', ' ', ' ']\n",
            "['123', 'Main', 'Street', 'City']\n"
          ]
        }
      ]
    },
    {
      "cell_type": "code",
      "source": [],
      "metadata": {
        "id": "ZelwQIWEPSfL"
      },
      "execution_count": null,
      "outputs": []
    }
  ]
}